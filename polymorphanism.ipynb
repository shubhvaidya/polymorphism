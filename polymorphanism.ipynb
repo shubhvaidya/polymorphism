{
 "cells": [
  {
   "cell_type": "code",
   "execution_count": 1,
   "id": "a806dc88",
   "metadata": {},
   "outputs": [],
   "source": [
    "def test1(a,b):\n",
    "    return a+b"
   ]
  },
  {
   "cell_type": "code",
   "execution_count": 2,
   "id": "ec07dbdd",
   "metadata": {},
   "outputs": [
    {
     "data": {
      "text/plain": [
       "7"
      ]
     },
     "execution_count": 2,
     "metadata": {},
     "output_type": "execute_result"
    }
   ],
   "source": [
    "test1(3,4)"
   ]
  },
  {
   "cell_type": "code",
   "execution_count": 4,
   "id": "4fdaabee",
   "metadata": {},
   "outputs": [
    {
     "data": {
      "text/plain": [
       "'shubham vaidya'"
      ]
     },
     "execution_count": 4,
     "metadata": {},
     "output_type": "execute_result"
    }
   ],
   "source": [
    "test1(\"shubham\",\" vaidya\")"
   ]
  },
  {
   "cell_type": "code",
   "execution_count": 6,
   "id": "6be2f217",
   "metadata": {},
   "outputs": [],
   "source": [
    "class insta:\n",
    "    def share_story(self):\n",
    "        print(\"this will share my insta story\")\n",
    "class facebook :\n",
    "    def share_story(self):\n",
    "        print(\"this will share my facebook story\")"
   ]
  },
  {
   "cell_type": "code",
   "execution_count": 8,
   "id": "e09e0be2",
   "metadata": {},
   "outputs": [],
   "source": [
    "def sharestories(app):\n",
    "    app.share_story()"
   ]
  },
  {
   "cell_type": "code",
   "execution_count": 9,
   "id": "31d208b7",
   "metadata": {},
   "outputs": [],
   "source": [
    "i = insta()\n",
    "f = facebook()"
   ]
  },
  {
   "cell_type": "code",
   "execution_count": 10,
   "id": "ef4005a0",
   "metadata": {},
   "outputs": [
    {
     "name": "stdout",
     "output_type": "stream",
     "text": [
      "this will share my insta story\n"
     ]
    }
   ],
   "source": [
    "sharestories(i)"
   ]
  },
  {
   "cell_type": "code",
   "execution_count": 11,
   "id": "ba0ffd27",
   "metadata": {},
   "outputs": [
    {
     "name": "stdout",
     "output_type": "stream",
     "text": [
      "this will share my facebook story\n"
     ]
    }
   ],
   "source": [
    "sharestories(f)"
   ]
  },
  {
   "cell_type": "code",
   "execution_count": 13,
   "id": "877c04f7",
   "metadata": {},
   "outputs": [],
   "source": [
    "class activa :\n",
    "    def engine_1(self):\n",
    "        print(\" good engine\")\n",
    "    \n",
    "class plesure:\n",
    "    def engine_1(self):\n",
    "        print(\"bad engine\")"
   ]
  },
  {
   "cell_type": "code",
   "execution_count": 16,
   "id": "4c3d29c8",
   "metadata": {},
   "outputs": [],
   "source": [
    "def engin1(test):\n",
    "    test.engine_1()"
   ]
  },
  {
   "cell_type": "code",
   "execution_count": 15,
   "id": "92a7ad44",
   "metadata": {},
   "outputs": [],
   "source": [
    "a = activa()\n",
    "p = plesure()"
   ]
  },
  {
   "cell_type": "code",
   "execution_count": 19,
   "id": "57852378",
   "metadata": {},
   "outputs": [
    {
     "name": "stdout",
     "output_type": "stream",
     "text": [
      " good engine\n"
     ]
    }
   ],
   "source": [
    "engin1(a)"
   ]
  },
  {
   "cell_type": "code",
   "execution_count": 20,
   "id": "a971e964",
   "metadata": {},
   "outputs": [
    {
     "name": "stdout",
     "output_type": "stream",
     "text": [
      "bad engine\n"
     ]
    }
   ],
   "source": [
    "engin1(p)"
   ]
  },
  {
   "cell_type": "code",
   "execution_count": 21,
   "id": "013dd926",
   "metadata": {},
   "outputs": [],
   "source": [
    "class social_media :\n",
    "    def share_stories(self):\n",
    "        print(\"share a stories\")\n",
    "        \n",
    "    def upload_pic(self):\n",
    "        print(\"this will help you to upload a pic on social media\")\n",
    "        \n",
    "        \n",
    "class facebook(social_media):\n",
    "    def share_stories(self):\n",
    "        print(\"this is a fun to share an stories for facebook\")\n",
    "    \n",
    "class insta(social_media):\n",
    "    def share_stories(self):\n",
    "        print(\"this will print a story from insta\")"
   ]
  },
  {
   "cell_type": "code",
   "execution_count": 22,
   "id": "c69af629",
   "metadata": {},
   "outputs": [],
   "source": [
    "f = facebook()\n",
    "i = insta()"
   ]
  },
  {
   "cell_type": "code",
   "execution_count": 24,
   "id": "bd0df28a",
   "metadata": {},
   "outputs": [
    {
     "name": "stdout",
     "output_type": "stream",
     "text": [
      "this will help you to upload a pic on social media\n"
     ]
    }
   ],
   "source": [
    "f.upload_pic()"
   ]
  },
  {
   "cell_type": "code",
   "execution_count": 25,
   "id": "9b3f275a",
   "metadata": {},
   "outputs": [
    {
     "name": "stdout",
     "output_type": "stream",
     "text": [
      "this is a fun to share an stories for facebook\n"
     ]
    }
   ],
   "source": [
    "f.share_stories()"
   ]
  },
  {
   "cell_type": "code",
   "execution_count": 26,
   "id": "c8448131",
   "metadata": {},
   "outputs": [
    {
     "name": "stdout",
     "output_type": "stream",
     "text": [
      "this will print a story from insta\n"
     ]
    }
   ],
   "source": [
    "i.share_stories()"
   ]
  },
  {
   "cell_type": "code",
   "execution_count": 28,
   "id": "8b14f3f1",
   "metadata": {},
   "outputs": [],
   "source": [
    "class test(Exception):\n",
    "    def __init__(self, msg):\n",
    "        self.msg = msg"
   ]
  },
  {
   "cell_type": "code",
   "execution_count": 29,
   "id": "26459932",
   "metadata": {},
   "outputs": [
    {
     "name": "stdout",
     "output_type": "stream",
     "text": [
      "this is my own exception class\n"
     ]
    }
   ],
   "source": [
    "try :\n",
    "    raise(test(\"this is my own exception class\"))\n",
    "except test as t :\n",
    "    print(t)"
   ]
  },
  {
   "cell_type": "code",
   "execution_count": 42,
   "id": "1eea0d84",
   "metadata": {},
   "outputs": [],
   "source": [
    "class batch_number:\n",
    "    batchnumber=\"\"\n",
    "    def batch(self):\n",
    "        print(self.batchnumber)\n",
    "class course_name:\n",
    "    cname= \"\"\n",
    "    def course(self):\n",
    "        print(self.cname)\n",
    "        \n",
    "class student(batch_number,course_name):\n",
    "    def xyz(self):\n",
    "        print(\"batch :\", self.batchnumber)\n",
    "        print(\"course : \", self.cname)\n",
    "        \n",
    "s1 = student()\n",
    "s1.batchnumber= \"7\"\n",
    "s1.cname =\"fsds\""
   ]
  },
  {
   "cell_type": "code",
   "execution_count": 40,
   "id": "7a4ff096",
   "metadata": {},
   "outputs": [
    {
     "name": "stdout",
     "output_type": "stream",
     "text": [
      "7\n"
     ]
    }
   ],
   "source": [
    "s1.batch()"
   ]
  },
  {
   "cell_type": "code",
   "execution_count": 39,
   "id": "cd3e2bef",
   "metadata": {},
   "outputs": [
    {
     "data": {
      "text/plain": [
       "'7'"
      ]
     },
     "execution_count": 39,
     "metadata": {},
     "output_type": "execute_result"
    }
   ],
   "source": [
    "s1.batchnumber"
   ]
  },
  {
   "cell_type": "code",
   "execution_count": 45,
   "id": "c3923cdb",
   "metadata": {},
   "outputs": [
    {
     "data": {
      "text/plain": [
       "'fsds'"
      ]
     },
     "execution_count": 45,
     "metadata": {},
     "output_type": "execute_result"
    }
   ],
   "source": [
    "s1.cname"
   ]
  },
  {
   "cell_type": "code",
   "execution_count": null,
   "id": "18c74523",
   "metadata": {},
   "outputs": [],
   "source": [
    "class "
   ]
  }
 ],
 "metadata": {
  "kernelspec": {
   "display_name": "Python 3 (ipykernel)",
   "language": "python",
   "name": "python3"
  },
  "language_info": {
   "codemirror_mode": {
    "name": "ipython",
    "version": 3
   },
   "file_extension": ".py",
   "mimetype": "text/x-python",
   "name": "python",
   "nbconvert_exporter": "python",
   "pygments_lexer": "ipython3",
   "version": "3.11.5"
  }
 },
 "nbformat": 4,
 "nbformat_minor": 5
}
